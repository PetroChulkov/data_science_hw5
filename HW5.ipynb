{
  "nbformat": 4,
  "nbformat_minor": 0,
  "metadata": {
    "colab": {
      "provenance": []
    },
    "kernelspec": {
      "name": "python3",
      "display_name": "Python 3"
    },
    "language_info": {
      "name": "python"
    }
  },
  "cells": [
    {
      "cell_type": "code",
      "execution_count": 146,
      "metadata": {
        "id": "5kV_QhJyrXoo"
      },
      "outputs": [],
      "source": [
        "from os import listdir\n",
        "from os.path import isfile, join, isdir\n",
        "import pandas as pd\n",
        "import numpy as np\n",
        "import time\n",
        "from sklearn.model_selection import train_test_split\n",
        "from sklearn.svm import SVC\n",
        "from sklearn.ensemble import RandomForestClassifier\n",
        "from sklearn.metrics import accuracy_score, mean_squared_error, mean_absolute_error, classification_report\n",
        "from sklearn import preprocessing\n",
        "from scipy.fftpack import fft, rfft\n"
      ]
    },
    {
      "cell_type": "markdown",
      "source": [
        "# **Dataset preparation (row data)**"
      ],
      "metadata": {
        "id": "vU-zxvh7k_Wp"
      }
    },
    {
      "cell_type": "code",
      "source": [
        "path_to_data = '/content/drive/My Drive/data'\n",
        "activities = listdir(path_to_data)\n",
        "print(activities)"
      ],
      "metadata": {
        "colab": {
          "base_uri": "https://localhost:8080/"
        },
        "id": "S5oA3nhYlNLP",
        "outputId": "7f99f495-cdbc-47f4-e073-7a38a5ca8293"
      },
      "execution_count": 147,
      "outputs": [
        {
          "output_type": "stream",
          "name": "stdout",
          "text": [
            "['running', 'walking', 'idle', 'stairs']\n"
          ]
        }
      ]
    },
    {
      "cell_type": "code",
      "source": [
        "table = pd.DataFrame()"
      ],
      "metadata": {
        "id": "f1r1Dr9olPpw"
      },
      "execution_count": 148,
      "outputs": []
    },
    {
      "cell_type": "code",
      "source": [
        "for folder in listdir(path_to_data):\n",
        "    activity = join(path_to_data, folder)\n",
        "    if not isdir(activity):\n",
        "        continue\n",
        "\n",
        "    for filename in listdir(activity):\n",
        "        file = join(activity, filename)\n",
        "        if not filename.endswith('.csv'):\n",
        "            continue\n",
        "\n",
        "        df = pd.read_csv(file)\n",
        "\n",
        "        df['activity'] = folder\n",
        "\n",
        "        table = pd.concat([table, df], ignore_index=True)\n",
        "\n",
        "table = table.sample(frac=1).reset_index(drop=True)\n",
        "table.head(10)"
      ],
      "metadata": {
        "colab": {
          "base_uri": "https://localhost:8080/",
          "height": 363
        },
        "id": "tVIfeE9wlQZh",
        "outputId": "eab0d026-a05c-4116-9a2b-4f8906dd0f58"
      },
      "execution_count": 149,
      "outputs": [
        {
          "output_type": "execute_result",
          "data": {
            "text/plain": [
              "   accelerometer_X  accelerometer_Y  accelerometer_Z activity\n",
              "0        -5.343858        -8.384495        -1.278504  walking\n",
              "1         9.634268        10.721235        -3.845088  running\n",
              "2         5.046977        -0.852336        -1.853112  running\n",
              "3        -3.538630         5.027824        -3.356671  running\n",
              "4         0.229843        18.033127        -3.629610  running\n",
              "5        15.959748        25.603594         4.826711  running\n",
              "6        -4.146757        -7.005434         0.905008  running\n",
              "7        23.357832        17.951727        29.419950  running\n",
              "8        11.492168         5.525818        15.710752  running\n",
              "9         4.127604       -12.157756        -7.896077  walking"
            ],
            "text/html": [
              "\n",
              "  <div id=\"df-56e77cd2-2702-4d3c-8743-22257e981117\">\n",
              "    <div class=\"colab-df-container\">\n",
              "      <div>\n",
              "<style scoped>\n",
              "    .dataframe tbody tr th:only-of-type {\n",
              "        vertical-align: middle;\n",
              "    }\n",
              "\n",
              "    .dataframe tbody tr th {\n",
              "        vertical-align: top;\n",
              "    }\n",
              "\n",
              "    .dataframe thead th {\n",
              "        text-align: right;\n",
              "    }\n",
              "</style>\n",
              "<table border=\"1\" class=\"dataframe\">\n",
              "  <thead>\n",
              "    <tr style=\"text-align: right;\">\n",
              "      <th></th>\n",
              "      <th>accelerometer_X</th>\n",
              "      <th>accelerometer_Y</th>\n",
              "      <th>accelerometer_Z</th>\n",
              "      <th>activity</th>\n",
              "    </tr>\n",
              "  </thead>\n",
              "  <tbody>\n",
              "    <tr>\n",
              "      <th>0</th>\n",
              "      <td>-5.343858</td>\n",
              "      <td>-8.384495</td>\n",
              "      <td>-1.278504</td>\n",
              "      <td>walking</td>\n",
              "    </tr>\n",
              "    <tr>\n",
              "      <th>1</th>\n",
              "      <td>9.634268</td>\n",
              "      <td>10.721235</td>\n",
              "      <td>-3.845088</td>\n",
              "      <td>running</td>\n",
              "    </tr>\n",
              "    <tr>\n",
              "      <th>2</th>\n",
              "      <td>5.046977</td>\n",
              "      <td>-0.852336</td>\n",
              "      <td>-1.853112</td>\n",
              "      <td>running</td>\n",
              "    </tr>\n",
              "    <tr>\n",
              "      <th>3</th>\n",
              "      <td>-3.538630</td>\n",
              "      <td>5.027824</td>\n",
              "      <td>-3.356671</td>\n",
              "      <td>running</td>\n",
              "    </tr>\n",
              "    <tr>\n",
              "      <th>4</th>\n",
              "      <td>0.229843</td>\n",
              "      <td>18.033127</td>\n",
              "      <td>-3.629610</td>\n",
              "      <td>running</td>\n",
              "    </tr>\n",
              "    <tr>\n",
              "      <th>5</th>\n",
              "      <td>15.959748</td>\n",
              "      <td>25.603594</td>\n",
              "      <td>4.826711</td>\n",
              "      <td>running</td>\n",
              "    </tr>\n",
              "    <tr>\n",
              "      <th>6</th>\n",
              "      <td>-4.146757</td>\n",
              "      <td>-7.005434</td>\n",
              "      <td>0.905008</td>\n",
              "      <td>running</td>\n",
              "    </tr>\n",
              "    <tr>\n",
              "      <th>7</th>\n",
              "      <td>23.357832</td>\n",
              "      <td>17.951727</td>\n",
              "      <td>29.419950</td>\n",
              "      <td>running</td>\n",
              "    </tr>\n",
              "    <tr>\n",
              "      <th>8</th>\n",
              "      <td>11.492168</td>\n",
              "      <td>5.525818</td>\n",
              "      <td>15.710752</td>\n",
              "      <td>running</td>\n",
              "    </tr>\n",
              "    <tr>\n",
              "      <th>9</th>\n",
              "      <td>4.127604</td>\n",
              "      <td>-12.157756</td>\n",
              "      <td>-7.896077</td>\n",
              "      <td>walking</td>\n",
              "    </tr>\n",
              "  </tbody>\n",
              "</table>\n",
              "</div>\n",
              "      <button class=\"colab-df-convert\" onclick=\"convertToInteractive('df-56e77cd2-2702-4d3c-8743-22257e981117')\"\n",
              "              title=\"Convert this dataframe to an interactive table.\"\n",
              "              style=\"display:none;\">\n",
              "        \n",
              "  <svg xmlns=\"http://www.w3.org/2000/svg\" height=\"24px\"viewBox=\"0 0 24 24\"\n",
              "       width=\"24px\">\n",
              "    <path d=\"M0 0h24v24H0V0z\" fill=\"none\"/>\n",
              "    <path d=\"M18.56 5.44l.94 2.06.94-2.06 2.06-.94-2.06-.94-.94-2.06-.94 2.06-2.06.94zm-11 1L8.5 8.5l.94-2.06 2.06-.94-2.06-.94L8.5 2.5l-.94 2.06-2.06.94zm10 10l.94 2.06.94-2.06 2.06-.94-2.06-.94-.94-2.06-.94 2.06-2.06.94z\"/><path d=\"M17.41 7.96l-1.37-1.37c-.4-.4-.92-.59-1.43-.59-.52 0-1.04.2-1.43.59L10.3 9.45l-7.72 7.72c-.78.78-.78 2.05 0 2.83L4 21.41c.39.39.9.59 1.41.59.51 0 1.02-.2 1.41-.59l7.78-7.78 2.81-2.81c.8-.78.8-2.07 0-2.86zM5.41 20L4 18.59l7.72-7.72 1.47 1.35L5.41 20z\"/>\n",
              "  </svg>\n",
              "      </button>\n",
              "      \n",
              "  <style>\n",
              "    .colab-df-container {\n",
              "      display:flex;\n",
              "      flex-wrap:wrap;\n",
              "      gap: 12px;\n",
              "    }\n",
              "\n",
              "    .colab-df-convert {\n",
              "      background-color: #E8F0FE;\n",
              "      border: none;\n",
              "      border-radius: 50%;\n",
              "      cursor: pointer;\n",
              "      display: none;\n",
              "      fill: #1967D2;\n",
              "      height: 32px;\n",
              "      padding: 0 0 0 0;\n",
              "      width: 32px;\n",
              "    }\n",
              "\n",
              "    .colab-df-convert:hover {\n",
              "      background-color: #E2EBFA;\n",
              "      box-shadow: 0px 1px 2px rgba(60, 64, 67, 0.3), 0px 1px 3px 1px rgba(60, 64, 67, 0.15);\n",
              "      fill: #174EA6;\n",
              "    }\n",
              "\n",
              "    [theme=dark] .colab-df-convert {\n",
              "      background-color: #3B4455;\n",
              "      fill: #D2E3FC;\n",
              "    }\n",
              "\n",
              "    [theme=dark] .colab-df-convert:hover {\n",
              "      background-color: #434B5C;\n",
              "      box-shadow: 0px 1px 3px 1px rgba(0, 0, 0, 0.15);\n",
              "      filter: drop-shadow(0px 1px 2px rgba(0, 0, 0, 0.3));\n",
              "      fill: #FFFFFF;\n",
              "    }\n",
              "  </style>\n",
              "\n",
              "      <script>\n",
              "        const buttonEl =\n",
              "          document.querySelector('#df-56e77cd2-2702-4d3c-8743-22257e981117 button.colab-df-convert');\n",
              "        buttonEl.style.display =\n",
              "          google.colab.kernel.accessAllowed ? 'block' : 'none';\n",
              "\n",
              "        async function convertToInteractive(key) {\n",
              "          const element = document.querySelector('#df-56e77cd2-2702-4d3c-8743-22257e981117');\n",
              "          const dataTable =\n",
              "            await google.colab.kernel.invokeFunction('convertToInteractive',\n",
              "                                                     [key], {});\n",
              "          if (!dataTable) return;\n",
              "\n",
              "          const docLinkHtml = 'Like what you see? Visit the ' +\n",
              "            '<a target=\"_blank\" href=https://colab.research.google.com/notebooks/data_table.ipynb>data table notebook</a>'\n",
              "            + ' to learn more about interactive tables.';\n",
              "          element.innerHTML = '';\n",
              "          dataTable['output_type'] = 'display_data';\n",
              "          await google.colab.output.renderOutput(dataTable, element);\n",
              "          const docLink = document.createElement('div');\n",
              "          docLink.innerHTML = docLinkHtml;\n",
              "          element.appendChild(docLink);\n",
              "        }\n",
              "      </script>\n",
              "    </div>\n",
              "  </div>\n",
              "  "
            ]
          },
          "metadata": {},
          "execution_count": 149
        }
      ]
    },
    {
      "cell_type": "code",
      "source": [
        "X = table.drop('activity', axis=1)\n",
        "y = table['activity']"
      ],
      "metadata": {
        "id": "-JvDOOvYplHa"
      },
      "execution_count": 150,
      "outputs": []
    },
    {
      "cell_type": "code",
      "source": [
        "X_train, X_test, y_train, y_test = train_test_split(X, y, test_size=0.2, random_state=0)"
      ],
      "metadata": {
        "id": "CxLIIFIEmH5w"
      },
      "execution_count": 151,
      "outputs": []
    },
    {
      "cell_type": "markdown",
      "source": [
        "# **Random Forest Model**"
      ],
      "metadata": {
        "id": "JVgx2NOcl-8Q"
      }
    },
    {
      "cell_type": "code",
      "source": [
        "time_rf_1 = time.perf_counter()\n",
        "random_forest_model = RandomForestClassifier()\n",
        "random_forest_model.fit(X_train, y_train)\n",
        "time_rf_2 = time.perf_counter()"
      ],
      "metadata": {
        "id": "emiyzWILl7dK"
      },
      "execution_count": 152,
      "outputs": []
    },
    {
      "cell_type": "markdown",
      "source": [
        "*Runtime*"
      ],
      "metadata": {
        "id": "3FI9HO3DmKxn"
      }
    },
    {
      "cell_type": "code",
      "source": [
        "time_taken_to_run_rf = time_rf_2 - time_rf_1"
      ],
      "metadata": {
        "id": "wZuBn8FjmNG5"
      },
      "execution_count": 153,
      "outputs": []
    },
    {
      "cell_type": "markdown",
      "source": [
        "# **SVM Model**"
      ],
      "metadata": {
        "id": "UTqDkS5TmQuY"
      }
    },
    {
      "cell_type": "code",
      "source": [
        "time_svm_1 = time.perf_counter()\n",
        "svm_model = SVC()\n",
        "svm_model.fit(X_train, y_train)\n",
        "time_svm_2 = time.perf_counter()"
      ],
      "metadata": {
        "id": "Old2E1FRmS1J"
      },
      "execution_count": 154,
      "outputs": []
    },
    {
      "cell_type": "markdown",
      "source": [
        "*Runtime*"
      ],
      "metadata": {
        "id": "LeyhV4BNmUwo"
      }
    },
    {
      "cell_type": "code",
      "source": [
        "time_taken_to_run_svm = time_svm_2 - time_svm_1"
      ],
      "metadata": {
        "id": "NFbHhQSgmXOg"
      },
      "execution_count": 155,
      "outputs": []
    },
    {
      "cell_type": "markdown",
      "source": [
        "# **Predictions**"
      ],
      "metadata": {
        "id": "qgXdu5qyma2x"
      }
    },
    {
      "cell_type": "markdown",
      "source": [
        "**SVM**"
      ],
      "metadata": {
        "id": "LOU48CqUmeth"
      }
    },
    {
      "cell_type": "code",
      "source": [
        "time_svm_1_pred = time.perf_counter()\n",
        "svm_prediction = svm_model.predict(X_test)\n",
        "time_svm_2_pred = time.perf_counter()"
      ],
      "metadata": {
        "id": "__jspyXDmd0R"
      },
      "execution_count": 156,
      "outputs": []
    },
    {
      "cell_type": "markdown",
      "source": [
        "*Runtime*"
      ],
      "metadata": {
        "id": "oOnQYspHmjdR"
      }
    },
    {
      "cell_type": "code",
      "source": [
        "time_taken_to_run_svm_pred = time_svm_2_pred - time_svm_1_pred"
      ],
      "metadata": {
        "id": "OeG0uyVFmkwZ"
      },
      "execution_count": 157,
      "outputs": []
    },
    {
      "cell_type": "markdown",
      "source": [
        "**Random** **Forest**"
      ],
      "metadata": {
        "id": "BvM2y2oJmmFp"
      }
    },
    {
      "cell_type": "code",
      "source": [
        "time_rf_1_pred = time.perf_counter()\n",
        "random_forest_prediction = random_forest_model.predict(X_test)\n",
        "time_rf_2_pred = time.perf_counter()"
      ],
      "metadata": {
        "id": "qp0PpQnkmpCK"
      },
      "execution_count": 158,
      "outputs": []
    },
    {
      "cell_type": "markdown",
      "source": [
        "*Runtime*"
      ],
      "metadata": {
        "id": "WHUgtBvImsjJ"
      }
    },
    {
      "cell_type": "code",
      "source": [
        "time_taken_to_run_rf_pred = time_rf_2_pred - time_rf_1_pred"
      ],
      "metadata": {
        "id": "-9L0m2B4muzB"
      },
      "execution_count": 159,
      "outputs": []
    },
    {
      "cell_type": "markdown",
      "source": [
        "# **Accuracy**"
      ],
      "metadata": {
        "id": "5NaAIzcAmxPB"
      }
    },
    {
      "cell_type": "code",
      "source": [
        "svm_accuracy = accuracy_score(y_test, svm_prediction)\n",
        "random_forest_accuracy = accuracy_score(y_test, random_forest_prediction)"
      ],
      "metadata": {
        "id": "Jx3UEqCDm0Rj"
      },
      "execution_count": 160,
      "outputs": []
    },
    {
      "cell_type": "markdown",
      "source": [
        "# **Classification Report**"
      ],
      "metadata": {
        "id": "LWXyh2DQm2n7"
      }
    },
    {
      "cell_type": "code",
      "source": [
        "svm_report = classification_report(y_test, svm_prediction)\n",
        "print(f'''SVM Classification Report:\n",
        "      {svm_report}''')\n",
        "\n",
        "random_forest_report = classification_report(y_test, random_forest_prediction)\n",
        "print(f'''Random Forest Classification Report:\n",
        "      {random_forest_report}''')"
      ],
      "metadata": {
        "colab": {
          "base_uri": "https://localhost:8080/"
        },
        "id": "sMBCpTFHm49z",
        "outputId": "249237bd-d431-46fe-b1d5-808310ce4e8d"
      },
      "execution_count": 161,
      "outputs": [
        {
          "output_type": "stream",
          "name": "stdout",
          "text": [
            "SVM Classification Report:\n",
            "                    precision    recall  f1-score   support\n",
            "\n",
            "        idle       0.95      0.99      0.97      6255\n",
            "     running       0.93      0.90      0.92     20597\n",
            "      stairs       1.00      0.01      0.01       964\n",
            "     walking       0.80      0.90      0.85     11256\n",
            "\n",
            "    accuracy                           0.89     39072\n",
            "   macro avg       0.92      0.70      0.69     39072\n",
            "weighted avg       0.90      0.89      0.88     39072\n",
            "\n",
            "Random Forest Classification Report:\n",
            "                    precision    recall  f1-score   support\n",
            "\n",
            "        idle       1.00      1.00      1.00      6255\n",
            "     running       1.00      1.00      1.00     20597\n",
            "      stairs       1.00      0.99      0.99       964\n",
            "     walking       1.00      1.00      1.00     11256\n",
            "\n",
            "    accuracy                           1.00     39072\n",
            "   macro avg       1.00      1.00      1.00     39072\n",
            "weighted avg       1.00      1.00      1.00     39072\n",
            "\n"
          ]
        }
      ]
    },
    {
      "cell_type": "markdown",
      "source": [
        "# **Total** **Time**"
      ],
      "metadata": {
        "id": "xPJN-1f3m9sE"
      }
    },
    {
      "cell_type": "code",
      "source": [
        "total_time_svm = time_taken_to_run_svm_pred + time_taken_to_run_svm\n",
        "total_time_rf = time_taken_to_run_rf_pred + time_taken_to_run_rf"
      ],
      "metadata": {
        "id": "KZQgtIAvnAID"
      },
      "execution_count": 162,
      "outputs": []
    },
    {
      "cell_type": "markdown",
      "source": [
        "# **Final** **Comparison**"
      ],
      "metadata": {
        "id": "GpnA96iXnDjO"
      }
    },
    {
      "cell_type": "code",
      "source": [
        "final = pd.DataFrame()\n",
        "final['Models'] = ('SVM', 'Random Forest')\n",
        "final['Accuracy'] = (svm_accuracy, random_forest_accuracy)\n",
        "final['Total Runtime'] = (total_time_svm, total_time_rf)"
      ],
      "metadata": {
        "id": "CWJUfvFunHST"
      },
      "execution_count": 163,
      "outputs": []
    },
    {
      "cell_type": "code",
      "source": [
        "final"
      ],
      "metadata": {
        "colab": {
          "base_uri": "https://localhost:8080/",
          "height": 112
        },
        "id": "U0AJyHFQnKC8",
        "outputId": "2e0c5f03-53fd-41ed-c3de-012606dae1d6"
      },
      "execution_count": 164,
      "outputs": [
        {
          "output_type": "execute_result",
          "data": {
            "text/plain": [
              "          Models  Accuracy  Total Runtime\n",
              "0            SVM  0.893581     480.881620\n",
              "1  Random Forest  0.999616      18.449155"
            ],
            "text/html": [
              "\n",
              "  <div id=\"df-4eef6f41-a78e-4898-a789-b4fb5e8fdfe8\">\n",
              "    <div class=\"colab-df-container\">\n",
              "      <div>\n",
              "<style scoped>\n",
              "    .dataframe tbody tr th:only-of-type {\n",
              "        vertical-align: middle;\n",
              "    }\n",
              "\n",
              "    .dataframe tbody tr th {\n",
              "        vertical-align: top;\n",
              "    }\n",
              "\n",
              "    .dataframe thead th {\n",
              "        text-align: right;\n",
              "    }\n",
              "</style>\n",
              "<table border=\"1\" class=\"dataframe\">\n",
              "  <thead>\n",
              "    <tr style=\"text-align: right;\">\n",
              "      <th></th>\n",
              "      <th>Models</th>\n",
              "      <th>Accuracy</th>\n",
              "      <th>Total Runtime</th>\n",
              "    </tr>\n",
              "  </thead>\n",
              "  <tbody>\n",
              "    <tr>\n",
              "      <th>0</th>\n",
              "      <td>SVM</td>\n",
              "      <td>0.893581</td>\n",
              "      <td>480.881620</td>\n",
              "    </tr>\n",
              "    <tr>\n",
              "      <th>1</th>\n",
              "      <td>Random Forest</td>\n",
              "      <td>0.999616</td>\n",
              "      <td>18.449155</td>\n",
              "    </tr>\n",
              "  </tbody>\n",
              "</table>\n",
              "</div>\n",
              "      <button class=\"colab-df-convert\" onclick=\"convertToInteractive('df-4eef6f41-a78e-4898-a789-b4fb5e8fdfe8')\"\n",
              "              title=\"Convert this dataframe to an interactive table.\"\n",
              "              style=\"display:none;\">\n",
              "        \n",
              "  <svg xmlns=\"http://www.w3.org/2000/svg\" height=\"24px\"viewBox=\"0 0 24 24\"\n",
              "       width=\"24px\">\n",
              "    <path d=\"M0 0h24v24H0V0z\" fill=\"none\"/>\n",
              "    <path d=\"M18.56 5.44l.94 2.06.94-2.06 2.06-.94-2.06-.94-.94-2.06-.94 2.06-2.06.94zm-11 1L8.5 8.5l.94-2.06 2.06-.94-2.06-.94L8.5 2.5l-.94 2.06-2.06.94zm10 10l.94 2.06.94-2.06 2.06-.94-2.06-.94-.94-2.06-.94 2.06-2.06.94z\"/><path d=\"M17.41 7.96l-1.37-1.37c-.4-.4-.92-.59-1.43-.59-.52 0-1.04.2-1.43.59L10.3 9.45l-7.72 7.72c-.78.78-.78 2.05 0 2.83L4 21.41c.39.39.9.59 1.41.59.51 0 1.02-.2 1.41-.59l7.78-7.78 2.81-2.81c.8-.78.8-2.07 0-2.86zM5.41 20L4 18.59l7.72-7.72 1.47 1.35L5.41 20z\"/>\n",
              "  </svg>\n",
              "      </button>\n",
              "      \n",
              "  <style>\n",
              "    .colab-df-container {\n",
              "      display:flex;\n",
              "      flex-wrap:wrap;\n",
              "      gap: 12px;\n",
              "    }\n",
              "\n",
              "    .colab-df-convert {\n",
              "      background-color: #E8F0FE;\n",
              "      border: none;\n",
              "      border-radius: 50%;\n",
              "      cursor: pointer;\n",
              "      display: none;\n",
              "      fill: #1967D2;\n",
              "      height: 32px;\n",
              "      padding: 0 0 0 0;\n",
              "      width: 32px;\n",
              "    }\n",
              "\n",
              "    .colab-df-convert:hover {\n",
              "      background-color: #E2EBFA;\n",
              "      box-shadow: 0px 1px 2px rgba(60, 64, 67, 0.3), 0px 1px 3px 1px rgba(60, 64, 67, 0.15);\n",
              "      fill: #174EA6;\n",
              "    }\n",
              "\n",
              "    [theme=dark] .colab-df-convert {\n",
              "      background-color: #3B4455;\n",
              "      fill: #D2E3FC;\n",
              "    }\n",
              "\n",
              "    [theme=dark] .colab-df-convert:hover {\n",
              "      background-color: #434B5C;\n",
              "      box-shadow: 0px 1px 3px 1px rgba(0, 0, 0, 0.15);\n",
              "      filter: drop-shadow(0px 1px 2px rgba(0, 0, 0, 0.3));\n",
              "      fill: #FFFFFF;\n",
              "    }\n",
              "  </style>\n",
              "\n",
              "      <script>\n",
              "        const buttonEl =\n",
              "          document.querySelector('#df-4eef6f41-a78e-4898-a789-b4fb5e8fdfe8 button.colab-df-convert');\n",
              "        buttonEl.style.display =\n",
              "          google.colab.kernel.accessAllowed ? 'block' : 'none';\n",
              "\n",
              "        async function convertToInteractive(key) {\n",
              "          const element = document.querySelector('#df-4eef6f41-a78e-4898-a789-b4fb5e8fdfe8');\n",
              "          const dataTable =\n",
              "            await google.colab.kernel.invokeFunction('convertToInteractive',\n",
              "                                                     [key], {});\n",
              "          if (!dataTable) return;\n",
              "\n",
              "          const docLinkHtml = 'Like what you see? Visit the ' +\n",
              "            '<a target=\"_blank\" href=https://colab.research.google.com/notebooks/data_table.ipynb>data table notebook</a>'\n",
              "            + ' to learn more about interactive tables.';\n",
              "          element.innerHTML = '';\n",
              "          dataTable['output_type'] = 'display_data';\n",
              "          await google.colab.output.renderOutput(dataTable, element);\n",
              "          const docLink = document.createElement('div');\n",
              "          docLink.innerHTML = docLinkHtml;\n",
              "          element.appendChild(docLink);\n",
              "        }\n",
              "      </script>\n",
              "    </div>\n",
              "  </div>\n",
              "  "
            ]
          },
          "metadata": {},
          "execution_count": 164
        }
      ]
    },
    {
      "cell_type": "markdown",
      "source": [
        "As per final report total runtime of SVM method was approx 5 times longer than Random forest method. In addition accuracy of Random Forest method was much more better in comparison with SVM method. So as a final decision we can say that Random Forest method is more effective in our current case. SVM is much more time- and resource-intensive."
      ],
      "metadata": {
        "id": "yOjFlK7PnLRO"
      }
    },
    {
      "cell_type": "markdown",
      "source": [
        "# **Dataset preparation (manually added features)**"
      ],
      "metadata": {
        "id": "VWzhQqL-x8GA"
      }
    },
    {
      "cell_type": "code",
      "source": [
        "from google.colab import drive\n",
        "drive.mount('/content/drive')"
      ],
      "metadata": {
        "colab": {
          "base_uri": "https://localhost:8080/"
        },
        "id": "HOLOTw9gQB9e",
        "outputId": "8c403bff-ae48-4392-b2bb-e37db89c6011"
      },
      "execution_count": 165,
      "outputs": [
        {
          "output_type": "stream",
          "name": "stdout",
          "text": [
            "Drive already mounted at /content/drive; to attempt to forcibly remount, call drive.mount(\"/content/drive\", force_remount=True).\n"
          ]
        }
      ]
    },
    {
      "cell_type": "code",
      "source": [
        "path_to_data = '/content/drive/My Drive/data'\n",
        "activities = listdir(path_to_data)\n",
        "print(activities)"
      ],
      "metadata": {
        "colab": {
          "base_uri": "https://localhost:8080/"
        },
        "id": "AocemfmavL2a",
        "outputId": "5297806c-9867-40e9-e93b-ff7955e4a7eb"
      },
      "execution_count": 166,
      "outputs": [
        {
          "output_type": "stream",
          "name": "stdout",
          "text": [
            "['running', 'walking', 'idle', 'stairs']\n"
          ]
        }
      ]
    },
    {
      "cell_type": "code",
      "source": [
        "for act in activities:\n",
        "  path = join(path_to_data, act)\n",
        "  frames = listdir(path)\n",
        "  print(act, ': ', len(frames))"
      ],
      "metadata": {
        "colab": {
          "base_uri": "https://localhost:8080/"
        },
        "id": "YZHZPFI9QPCt",
        "outputId": "ec2e724e-2ddc-4c3a-966e-09179fe60743"
      },
      "execution_count": 167,
      "outputs": [
        {
          "output_type": "stream",
          "name": "stdout",
          "text": [
            "running :  3438\n",
            "walking :  1860\n",
            "idle :  1049\n",
            "stairs :  165\n"
          ]
        }
      ]
    },
    {
      "cell_type": "code",
      "source": [
        "def get_features(frame):\n",
        "  features = []\n",
        "  features = np.array(features)\n",
        "\n",
        "  features = np.concatenate((features, frame.min(axis=0).values), axis=0)\n",
        "  features = np.concatenate((features, frame.max(axis=0).values), axis=0)\n",
        "  features = np.concatenate((features, frame.mean(axis=0).values), axis=0)\n",
        "  features = np.concatenate((features, frame.skew(axis=0).values), axis=0)\n",
        "  features = np.concatenate((features, frame.kurt(axis=0).values), axis=0)\n",
        "  features = np.concatenate((features, frame.var(axis=0).values), axis=0)\n",
        "  features = np.concatenate((features, frame.median(axis=0).values), axis=0)\n",
        "  features = np.concatenate((features, frame.std(axis=0).values), axis=0)\n",
        "  features = np.concatenate((features, frame.idxmax(axis=0).values), axis=0)\n",
        "  features = np.concatenate((features, frame.idxmin(axis=0).values), axis=0)\n",
        "\n",
        "  frame['mean_x'] = frame.mean(axis=0)['accelerometer_X']\n",
        "  frame['mean_y'] = frame.mean(axis=0)['accelerometer_Y']\n",
        "  frame['mean_z'] = frame.mean(axis=0)['accelerometer_Z']\n",
        "\n",
        "  mae_x = mean_absolute_error(frame['accelerometer_X'], frame['mean_x'])\n",
        "  mae_y = mean_absolute_error(frame['accelerometer_Y'], frame['mean_y'])\n",
        "  mae_z = mean_absolute_error(frame['accelerometer_Z'], frame['mean_z'])\n",
        "\n",
        "  rmse_x = np.sqrt(mean_squared_error(frame['accelerometer_X'], frame['mean_x']))\n",
        "  rmse_y = np.sqrt(mean_squared_error(frame['accelerometer_Y'], frame['mean_y']))\n",
        "  rmse_z = np.sqrt(mean_squared_error(frame['accelerometer_Z'], frame['mean_z']))\n",
        "\n",
        "  metrics = np.array([mae_x, mae_y, mae_z, rmse_x, rmse_y, rmse_z])\n",
        "\n",
        "  features = np.concatenate((features, metrics), axis=0)\n",
        "\n",
        "  correlations = frame.corr()\n",
        "  corr = np.array([correlations['accelerometer_X']['accelerometer_Y'],\n",
        "                     correlations['accelerometer_X']['accelerometer_Z'],\n",
        "                     correlations['accelerometer_Y']['accelerometer_Z']])\n",
        "\n",
        "  features = np.concatenate((features, metrics), axis=0)\n",
        "\n",
        "  return features\n",
        "\n",
        "\n",
        ""
      ],
      "metadata": {
        "id": "fefcnUM3Uene"
      },
      "execution_count": 168,
      "outputs": []
    },
    {
      "cell_type": "code",
      "source": [
        "def class_data_stat_prepare(class_name, class_number):\n",
        "    path = join(path_to_data, class_name)\n",
        "    X = []\n",
        "    for item in listdir(path):\n",
        "        frame = pd.read_csv(join(path, item))\n",
        "        features = get_features(frame)\n",
        "        X.append(features)\n",
        "\n",
        "    y = [class_number]*len(X)\n",
        "\n",
        "    X = np.array(X)\n",
        "    y = np.array(y)\n",
        "\n",
        "    return X, y"
      ],
      "metadata": {
        "id": "E7JE2jFHfCbe"
      },
      "execution_count": 169,
      "outputs": []
    },
    {
      "cell_type": "code",
      "source": [
        "def create_dataset(class_prepare):\n",
        "    X_idle, y_idle = class_prepare('idle', 0)\n",
        "    X_walking, y_walking = class_prepare('walking', 1)\n",
        "    X_stairs, y_stairs = class_prepare('stairs', 2)\n",
        "    X_running, y_running = class_prepare('running', 3)\n",
        "\n",
        "    X = np.concatenate((X_idle, X_walking), axis=0)\n",
        "    X = np.concatenate((X, X_stairs), axis=0)\n",
        "    X = np.concatenate((X, X_running), axis=0)\n",
        "\n",
        "    Y = np.concatenate((y_idle, y_walking), axis=0)\n",
        "    Y = np.concatenate((Y, y_stairs), axis=0)\n",
        "    Y = np.concatenate((Y, y_running), axis=0)\n",
        "\n",
        "    return X, Y"
      ],
      "metadata": {
        "id": "bgTIiyTVZBSW"
      },
      "execution_count": 170,
      "outputs": []
    },
    {
      "cell_type": "code",
      "source": [
        "X, y = create_dataset(class_data_stat_prepare)"
      ],
      "metadata": {
        "id": "vmbygkJ8bfZJ"
      },
      "execution_count": 171,
      "outputs": []
    },
    {
      "cell_type": "code",
      "source": [
        "X_train, X_test, y_train, y_test = train_test_split(X, y, test_size=0.2, random_state=0)"
      ],
      "metadata": {
        "id": "3as13rTm1NuC"
      },
      "execution_count": 172,
      "outputs": []
    },
    {
      "cell_type": "markdown",
      "source": [
        "# **Random Forest Model**"
      ],
      "metadata": {
        "id": "uRb74p933bks"
      }
    },
    {
      "cell_type": "code",
      "source": [
        "time_rf_1 = time.perf_counter()\n",
        "random_forest_model = RandomForestClassifier()\n",
        "random_forest_model.fit(X_train, y_train)\n",
        "time_rf_2 = time.perf_counter()"
      ],
      "metadata": {
        "id": "CnNUv5QY19Sp"
      },
      "execution_count": 173,
      "outputs": []
    },
    {
      "cell_type": "markdown",
      "source": [
        "*Runtime*"
      ],
      "metadata": {
        "id": "2BAjHGY0ACYS"
      }
    },
    {
      "cell_type": "code",
      "source": [
        "time_taken_to_run_rf = time_rf_2 - time_rf_1"
      ],
      "metadata": {
        "id": "p1YrQjFtAHFl"
      },
      "execution_count": 174,
      "outputs": []
    },
    {
      "cell_type": "markdown",
      "source": [
        "# **SVM Model**"
      ],
      "metadata": {
        "id": "9-9euO9d3fvx"
      }
    },
    {
      "cell_type": "code",
      "source": [
        "time_svm_1 = time.perf_counter()\n",
        "svm_model = SVC()\n",
        "svm_model.fit(X_train, y_train)\n",
        "time_svm_2 = time.perf_counter()"
      ],
      "metadata": {
        "id": "UPqYKba8229n"
      },
      "execution_count": 175,
      "outputs": []
    },
    {
      "cell_type": "markdown",
      "source": [
        "*Runtime*"
      ],
      "metadata": {
        "id": "9PKrqYxaAPNa"
      }
    },
    {
      "cell_type": "code",
      "source": [
        "time_taken_to_run_svm = time_svm_2 - time_svm_1"
      ],
      "metadata": {
        "id": "5D_BgVEfARiC"
      },
      "execution_count": 176,
      "outputs": []
    },
    {
      "cell_type": "markdown",
      "source": [
        "# **Predictions**"
      ],
      "metadata": {
        "id": "BR7VS3Qd6zld"
      }
    },
    {
      "cell_type": "markdown",
      "source": [
        "***SVM***"
      ],
      "metadata": {
        "id": "ZHaT5O1SFbnw"
      }
    },
    {
      "cell_type": "code",
      "source": [
        "time_svm_1_pred = time.perf_counter()\n",
        "svm_prediction = svm_model.predict(X_test)\n",
        "time_svm_2_pred = time.perf_counter()"
      ],
      "metadata": {
        "id": "lmdXYK4s616a"
      },
      "execution_count": 177,
      "outputs": []
    },
    {
      "cell_type": "markdown",
      "source": [
        "*Runtime*"
      ],
      "metadata": {
        "id": "cdlsavD_FHA7"
      }
    },
    {
      "cell_type": "code",
      "source": [
        "time_taken_to_run_svm_pred = time_svm_2_pred - time_svm_1_pred"
      ],
      "metadata": {
        "id": "kBVi0AJvFCBJ"
      },
      "execution_count": 178,
      "outputs": []
    },
    {
      "cell_type": "markdown",
      "source": [
        "***Random*** ***Forest***"
      ],
      "metadata": {
        "id": "yFrBIwwlFeBQ"
      }
    },
    {
      "cell_type": "code",
      "source": [
        "time_rf_1_pred = time.perf_counter()\n",
        "random_forest_prediction = random_forest_model.predict(X_test)\n",
        "time_rf_2_pred = time.perf_counter()"
      ],
      "metadata": {
        "id": "OCXtlvEWE2dR"
      },
      "execution_count": 179,
      "outputs": []
    },
    {
      "cell_type": "markdown",
      "source": [
        "*Runtime*"
      ],
      "metadata": {
        "id": "QikkCHqEFY45"
      }
    },
    {
      "cell_type": "code",
      "source": [
        "time_taken_to_run_rf_pred = time_rf_2_pred - time_rf_1_pred"
      ],
      "metadata": {
        "id": "o0UHnrlNFSTJ"
      },
      "execution_count": 180,
      "outputs": []
    },
    {
      "cell_type": "markdown",
      "source": [
        "# **Accuracy**"
      ],
      "metadata": {
        "id": "6WkYfabS7bmY"
      }
    },
    {
      "cell_type": "code",
      "source": [
        "svm_accuracy = accuracy_score(y_test, svm_prediction)\n",
        "random_forest_accuracy = accuracy_score(y_test, random_forest_prediction)"
      ],
      "metadata": {
        "id": "921kVAdA7fLg"
      },
      "execution_count": 181,
      "outputs": []
    },
    {
      "cell_type": "markdown",
      "source": [
        "# **Classification Report**"
      ],
      "metadata": {
        "id": "3NXvL2Od8eoj"
      }
    },
    {
      "cell_type": "code",
      "source": [
        "svm_report = classification_report(y_test, svm_prediction)\n",
        "print(f'''SVM Classification Report:\n",
        "      {svm_report}''')\n",
        "\n",
        "random_forest_report = classification_report(y_test, random_forest_prediction)\n",
        "print(f'''Random Forest Classification Report:\n",
        "      {random_forest_report}''')"
      ],
      "metadata": {
        "colab": {
          "base_uri": "https://localhost:8080/"
        },
        "id": "TxinFFNr8icc",
        "outputId": "75722676-6fc6-4b07-f116-f83a8a423b32"
      },
      "execution_count": 182,
      "outputs": [
        {
          "output_type": "stream",
          "name": "stdout",
          "text": [
            "SVM Classification Report:\n",
            "                    precision    recall  f1-score   support\n",
            "\n",
            "           0       1.00      1.00      1.00       212\n",
            "           1       0.93      1.00      0.96       362\n",
            "           2       0.00      0.00      0.00        27\n",
            "           3       1.00      1.00      1.00       702\n",
            "\n",
            "    accuracy                           0.98      1303\n",
            "   macro avg       0.73      0.75      0.74      1303\n",
            "weighted avg       0.96      0.98      0.97      1303\n",
            "\n",
            "Random Forest Classification Report:\n",
            "                    precision    recall  f1-score   support\n",
            "\n",
            "           0       1.00      1.00      1.00       212\n",
            "           1       1.00      1.00      1.00       362\n",
            "           2       1.00      0.96      0.98        27\n",
            "           3       1.00      1.00      1.00       702\n",
            "\n",
            "    accuracy                           1.00      1303\n",
            "   macro avg       1.00      0.99      0.99      1303\n",
            "weighted avg       1.00      1.00      1.00      1303\n",
            "\n"
          ]
        },
        {
          "output_type": "stream",
          "name": "stderr",
          "text": [
            "/usr/local/lib/python3.10/dist-packages/sklearn/metrics/_classification.py:1344: UndefinedMetricWarning: Precision and F-score are ill-defined and being set to 0.0 in labels with no predicted samples. Use `zero_division` parameter to control this behavior.\n",
            "  _warn_prf(average, modifier, msg_start, len(result))\n",
            "/usr/local/lib/python3.10/dist-packages/sklearn/metrics/_classification.py:1344: UndefinedMetricWarning: Precision and F-score are ill-defined and being set to 0.0 in labels with no predicted samples. Use `zero_division` parameter to control this behavior.\n",
            "  _warn_prf(average, modifier, msg_start, len(result))\n",
            "/usr/local/lib/python3.10/dist-packages/sklearn/metrics/_classification.py:1344: UndefinedMetricWarning: Precision and F-score are ill-defined and being set to 0.0 in labels with no predicted samples. Use `zero_division` parameter to control this behavior.\n",
            "  _warn_prf(average, modifier, msg_start, len(result))\n"
          ]
        }
      ]
    },
    {
      "cell_type": "markdown",
      "source": [
        "# **Total** **Time**"
      ],
      "metadata": {
        "id": "0Her8fc8F1cG"
      }
    },
    {
      "cell_type": "code",
      "source": [
        "total_time_svm = time_taken_to_run_svm_pred + time_taken_to_run_svm\n",
        "total_time_rf = time_taken_to_run_rf_pred + time_taken_to_run_rf"
      ],
      "metadata": {
        "id": "c4dJIyurF6MU"
      },
      "execution_count": 183,
      "outputs": []
    },
    {
      "cell_type": "markdown",
      "source": [
        "# **Final Comparison**"
      ],
      "metadata": {
        "id": "ZAeqi9_kD3hk"
      }
    },
    {
      "cell_type": "code",
      "source": [
        "final = pd.DataFrame()\n",
        "final['Models'] = ('SVM', 'Random Forest')\n",
        "final['Accuracy'] = (svm_accuracy, random_forest_accuracy)\n",
        "final['Total Runtime in sec'] = (total_time_svm, total_time_rf)"
      ],
      "metadata": {
        "id": "7bNd-QNQD9oo"
      },
      "execution_count": 184,
      "outputs": []
    },
    {
      "cell_type": "code",
      "source": [
        "final"
      ],
      "metadata": {
        "colab": {
          "base_uri": "https://localhost:8080/",
          "height": 112
        },
        "id": "4iosuWNsEZSD",
        "outputId": "ec9d369d-d5e8-44d2-a72b-cd87efa1702a"
      },
      "execution_count": 185,
      "outputs": [
        {
          "output_type": "execute_result",
          "data": {
            "text/plain": [
              "          Models  Accuracy  Total Runtime in sec\n",
              "0            SVM  0.979279              0.261219\n",
              "1  Random Forest  0.999233              1.784172"
            ],
            "text/html": [
              "\n",
              "  <div id=\"df-805bf898-56de-4f71-a1b4-4724d707ae2e\">\n",
              "    <div class=\"colab-df-container\">\n",
              "      <div>\n",
              "<style scoped>\n",
              "    .dataframe tbody tr th:only-of-type {\n",
              "        vertical-align: middle;\n",
              "    }\n",
              "\n",
              "    .dataframe tbody tr th {\n",
              "        vertical-align: top;\n",
              "    }\n",
              "\n",
              "    .dataframe thead th {\n",
              "        text-align: right;\n",
              "    }\n",
              "</style>\n",
              "<table border=\"1\" class=\"dataframe\">\n",
              "  <thead>\n",
              "    <tr style=\"text-align: right;\">\n",
              "      <th></th>\n",
              "      <th>Models</th>\n",
              "      <th>Accuracy</th>\n",
              "      <th>Total Runtime in sec</th>\n",
              "    </tr>\n",
              "  </thead>\n",
              "  <tbody>\n",
              "    <tr>\n",
              "      <th>0</th>\n",
              "      <td>SVM</td>\n",
              "      <td>0.979279</td>\n",
              "      <td>0.261219</td>\n",
              "    </tr>\n",
              "    <tr>\n",
              "      <th>1</th>\n",
              "      <td>Random Forest</td>\n",
              "      <td>0.999233</td>\n",
              "      <td>1.784172</td>\n",
              "    </tr>\n",
              "  </tbody>\n",
              "</table>\n",
              "</div>\n",
              "      <button class=\"colab-df-convert\" onclick=\"convertToInteractive('df-805bf898-56de-4f71-a1b4-4724d707ae2e')\"\n",
              "              title=\"Convert this dataframe to an interactive table.\"\n",
              "              style=\"display:none;\">\n",
              "        \n",
              "  <svg xmlns=\"http://www.w3.org/2000/svg\" height=\"24px\"viewBox=\"0 0 24 24\"\n",
              "       width=\"24px\">\n",
              "    <path d=\"M0 0h24v24H0V0z\" fill=\"none\"/>\n",
              "    <path d=\"M18.56 5.44l.94 2.06.94-2.06 2.06-.94-2.06-.94-.94-2.06-.94 2.06-2.06.94zm-11 1L8.5 8.5l.94-2.06 2.06-.94-2.06-.94L8.5 2.5l-.94 2.06-2.06.94zm10 10l.94 2.06.94-2.06 2.06-.94-2.06-.94-.94-2.06-.94 2.06-2.06.94z\"/><path d=\"M17.41 7.96l-1.37-1.37c-.4-.4-.92-.59-1.43-.59-.52 0-1.04.2-1.43.59L10.3 9.45l-7.72 7.72c-.78.78-.78 2.05 0 2.83L4 21.41c.39.39.9.59 1.41.59.51 0 1.02-.2 1.41-.59l7.78-7.78 2.81-2.81c.8-.78.8-2.07 0-2.86zM5.41 20L4 18.59l7.72-7.72 1.47 1.35L5.41 20z\"/>\n",
              "  </svg>\n",
              "      </button>\n",
              "      \n",
              "  <style>\n",
              "    .colab-df-container {\n",
              "      display:flex;\n",
              "      flex-wrap:wrap;\n",
              "      gap: 12px;\n",
              "    }\n",
              "\n",
              "    .colab-df-convert {\n",
              "      background-color: #E8F0FE;\n",
              "      border: none;\n",
              "      border-radius: 50%;\n",
              "      cursor: pointer;\n",
              "      display: none;\n",
              "      fill: #1967D2;\n",
              "      height: 32px;\n",
              "      padding: 0 0 0 0;\n",
              "      width: 32px;\n",
              "    }\n",
              "\n",
              "    .colab-df-convert:hover {\n",
              "      background-color: #E2EBFA;\n",
              "      box-shadow: 0px 1px 2px rgba(60, 64, 67, 0.3), 0px 1px 3px 1px rgba(60, 64, 67, 0.15);\n",
              "      fill: #174EA6;\n",
              "    }\n",
              "\n",
              "    [theme=dark] .colab-df-convert {\n",
              "      background-color: #3B4455;\n",
              "      fill: #D2E3FC;\n",
              "    }\n",
              "\n",
              "    [theme=dark] .colab-df-convert:hover {\n",
              "      background-color: #434B5C;\n",
              "      box-shadow: 0px 1px 3px 1px rgba(0, 0, 0, 0.15);\n",
              "      filter: drop-shadow(0px 1px 2px rgba(0, 0, 0, 0.3));\n",
              "      fill: #FFFFFF;\n",
              "    }\n",
              "  </style>\n",
              "\n",
              "      <script>\n",
              "        const buttonEl =\n",
              "          document.querySelector('#df-805bf898-56de-4f71-a1b4-4724d707ae2e button.colab-df-convert');\n",
              "        buttonEl.style.display =\n",
              "          google.colab.kernel.accessAllowed ? 'block' : 'none';\n",
              "\n",
              "        async function convertToInteractive(key) {\n",
              "          const element = document.querySelector('#df-805bf898-56de-4f71-a1b4-4724d707ae2e');\n",
              "          const dataTable =\n",
              "            await google.colab.kernel.invokeFunction('convertToInteractive',\n",
              "                                                     [key], {});\n",
              "          if (!dataTable) return;\n",
              "\n",
              "          const docLinkHtml = 'Like what you see? Visit the ' +\n",
              "            '<a target=\"_blank\" href=https://colab.research.google.com/notebooks/data_table.ipynb>data table notebook</a>'\n",
              "            + ' to learn more about interactive tables.';\n",
              "          element.innerHTML = '';\n",
              "          dataTable['output_type'] = 'display_data';\n",
              "          await google.colab.output.renderOutput(dataTable, element);\n",
              "          const docLink = document.createElement('div');\n",
              "          docLink.innerHTML = docLinkHtml;\n",
              "          element.appendChild(docLink);\n",
              "        }\n",
              "      </script>\n",
              "    </div>\n",
              "  </div>\n",
              "  "
            ]
          },
          "metadata": {},
          "execution_count": 185
        }
      ]
    },
    {
      "cell_type": "markdown",
      "source": [
        "As per final report total runtime was pretty fast with good accuracy rate for both methods.\n"
      ],
      "metadata": {
        "id": "adxNPcVIKVsZ"
      }
    }
  ]
}