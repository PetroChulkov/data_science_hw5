{
  "nbformat": 4,
  "nbformat_minor": 0,
  "metadata": {
    "colab": {
      "provenance": []
    },
    "kernelspec": {
      "name": "python3",
      "display_name": "Python 3"
    },
    "language_info": {
      "name": "python"
    }
  },
  "cells": [
    {
      "cell_type": "code",
      "execution_count": 22,
      "metadata": {
        "colab": {
          "base_uri": "https://localhost:8080/"
        },
        "id": "5kV_QhJyrXoo",
        "outputId": "e818a845-80b8-4e05-82af-d0e8e259fd4b"
      },
      "outputs": [
        {
          "output_type": "stream",
          "name": "stdout",
          "text": [
            "Drive already mounted at /content/drive; to attempt to forcibly remount, call drive.mount(\"/content/drive\", force_remount=True).\n"
          ]
        }
      ],
      "source": [
        "import pandas as pd\n",
        "from google.colab import drive\n",
        "drive.mount('/content/drive')\n",
        "import os\n",
        "import time\n",
        "from sklearn.model_selection import train_test_split\n",
        "from sklearn.svm import SVC\n",
        "from sklearn.ensemble import RandomForestClassifier\n",
        "from sklearn.metrics import accuracy_score\n",
        "from sklearn.metrics import classification_report"
      ]
    },
    {
      "cell_type": "markdown",
      "source": [
        "# **Dataset preparation**"
      ],
      "metadata": {
        "id": "VWzhQqL-x8GA"
      }
    },
    {
      "cell_type": "code",
      "source": [
        "path_to_data = '/content/drive/My Drive/data'\n",
        "activities = os.listdir(path_to_data)\n",
        "print(activities)"
      ],
      "metadata": {
        "colab": {
          "base_uri": "https://localhost:8080/"
        },
        "id": "AocemfmavL2a",
        "outputId": "9ee8b564-4c42-4393-ed32-92b60cf93f6e"
      },
      "execution_count": 23,
      "outputs": [
        {
          "output_type": "stream",
          "name": "stdout",
          "text": [
            "['running', 'walking', 'idle', 'stairs']\n"
          ]
        }
      ]
    },
    {
      "cell_type": "code",
      "source": [
        "table = pd.DataFrame()"
      ],
      "metadata": {
        "id": "xwA3B40fxCBl"
      },
      "execution_count": 24,
      "outputs": []
    },
    {
      "cell_type": "code",
      "source": [
        "for folder in os.listdir(path_to_data):\n",
        "    activity = os.path.join(path_to_data, folder)\n",
        "    if not os.path.isdir(activity):\n",
        "        continue\n",
        "\n",
        "    for filename in os.listdir(activity):\n",
        "        file = os.path.join(activity, filename)\n",
        "        if not filename.endswith('.csv'):\n",
        "            continue\n",
        "\n",
        "        df = pd.read_csv(file)\n",
        "\n",
        "        df['activity'] = folder\n",
        "\n",
        "        table = pd.concat([table, df], ignore_index=True)\n",
        "\n",
        "table = table.sample(frac=1).reset_index(drop=True)\n",
        "table.head(10)"
      ],
      "metadata": {
        "colab": {
          "base_uri": "https://localhost:8080/",
          "height": 363
        },
        "id": "3GG5V7sAweZ6",
        "outputId": "ebf238ec-353d-4120-cd2f-e6b2fbe0d3ce"
      },
      "execution_count": 25,
      "outputs": [
        {
          "output_type": "execute_result",
          "data": {
            "text/plain": [
              "   accelerometer_X  accelerometer_Y  accelerometer_Z activity\n",
              "0         7.254431       -13.527240        -7.398083  running\n",
              "1        -0.502782         6.406884         6.579266     idle\n",
              "2        -2.063802        -8.729259         1.412579  walking\n",
              "3        -3.830723        -0.924162         5.128380  walking\n",
              "4        -3.217807         6.986281         3.409343  running\n",
              "5        -3.538630       -15.547946        -3.768473  walking\n",
              "6        -6.560112       -15.083470        -1.359906  walking\n",
              "7         4.237737         5.650316         4.194642  running\n",
              "8        -5.937620         5.305551         1.565808  running\n",
              "9        -0.071826         4.323929         8.714894     idle"
            ],
            "text/html": [
              "\n",
              "  <div id=\"df-cf4dc7f6-1c5e-4bd3-b226-4ce2892ac4e9\">\n",
              "    <div class=\"colab-df-container\">\n",
              "      <div>\n",
              "<style scoped>\n",
              "    .dataframe tbody tr th:only-of-type {\n",
              "        vertical-align: middle;\n",
              "    }\n",
              "\n",
              "    .dataframe tbody tr th {\n",
              "        vertical-align: top;\n",
              "    }\n",
              "\n",
              "    .dataframe thead th {\n",
              "        text-align: right;\n",
              "    }\n",
              "</style>\n",
              "<table border=\"1\" class=\"dataframe\">\n",
              "  <thead>\n",
              "    <tr style=\"text-align: right;\">\n",
              "      <th></th>\n",
              "      <th>accelerometer_X</th>\n",
              "      <th>accelerometer_Y</th>\n",
              "      <th>accelerometer_Z</th>\n",
              "      <th>activity</th>\n",
              "    </tr>\n",
              "  </thead>\n",
              "  <tbody>\n",
              "    <tr>\n",
              "      <th>0</th>\n",
              "      <td>7.254431</td>\n",
              "      <td>-13.527240</td>\n",
              "      <td>-7.398083</td>\n",
              "      <td>running</td>\n",
              "    </tr>\n",
              "    <tr>\n",
              "      <th>1</th>\n",
              "      <td>-0.502782</td>\n",
              "      <td>6.406884</td>\n",
              "      <td>6.579266</td>\n",
              "      <td>idle</td>\n",
              "    </tr>\n",
              "    <tr>\n",
              "      <th>2</th>\n",
              "      <td>-2.063802</td>\n",
              "      <td>-8.729259</td>\n",
              "      <td>1.412579</td>\n",
              "      <td>walking</td>\n",
              "    </tr>\n",
              "    <tr>\n",
              "      <th>3</th>\n",
              "      <td>-3.830723</td>\n",
              "      <td>-0.924162</td>\n",
              "      <td>5.128380</td>\n",
              "      <td>walking</td>\n",
              "    </tr>\n",
              "    <tr>\n",
              "      <th>4</th>\n",
              "      <td>-3.217807</td>\n",
              "      <td>6.986281</td>\n",
              "      <td>3.409343</td>\n",
              "      <td>running</td>\n",
              "    </tr>\n",
              "    <tr>\n",
              "      <th>5</th>\n",
              "      <td>-3.538630</td>\n",
              "      <td>-15.547946</td>\n",
              "      <td>-3.768473</td>\n",
              "      <td>walking</td>\n",
              "    </tr>\n",
              "    <tr>\n",
              "      <th>6</th>\n",
              "      <td>-6.560112</td>\n",
              "      <td>-15.083470</td>\n",
              "      <td>-1.359906</td>\n",
              "      <td>walking</td>\n",
              "    </tr>\n",
              "    <tr>\n",
              "      <th>7</th>\n",
              "      <td>4.237737</td>\n",
              "      <td>5.650316</td>\n",
              "      <td>4.194642</td>\n",
              "      <td>running</td>\n",
              "    </tr>\n",
              "    <tr>\n",
              "      <th>8</th>\n",
              "      <td>-5.937620</td>\n",
              "      <td>5.305551</td>\n",
              "      <td>1.565808</td>\n",
              "      <td>running</td>\n",
              "    </tr>\n",
              "    <tr>\n",
              "      <th>9</th>\n",
              "      <td>-0.071826</td>\n",
              "      <td>4.323929</td>\n",
              "      <td>8.714894</td>\n",
              "      <td>idle</td>\n",
              "    </tr>\n",
              "  </tbody>\n",
              "</table>\n",
              "</div>\n",
              "      <button class=\"colab-df-convert\" onclick=\"convertToInteractive('df-cf4dc7f6-1c5e-4bd3-b226-4ce2892ac4e9')\"\n",
              "              title=\"Convert this dataframe to an interactive table.\"\n",
              "              style=\"display:none;\">\n",
              "        \n",
              "  <svg xmlns=\"http://www.w3.org/2000/svg\" height=\"24px\"viewBox=\"0 0 24 24\"\n",
              "       width=\"24px\">\n",
              "    <path d=\"M0 0h24v24H0V0z\" fill=\"none\"/>\n",
              "    <path d=\"M18.56 5.44l.94 2.06.94-2.06 2.06-.94-2.06-.94-.94-2.06-.94 2.06-2.06.94zm-11 1L8.5 8.5l.94-2.06 2.06-.94-2.06-.94L8.5 2.5l-.94 2.06-2.06.94zm10 10l.94 2.06.94-2.06 2.06-.94-2.06-.94-.94-2.06-.94 2.06-2.06.94z\"/><path d=\"M17.41 7.96l-1.37-1.37c-.4-.4-.92-.59-1.43-.59-.52 0-1.04.2-1.43.59L10.3 9.45l-7.72 7.72c-.78.78-.78 2.05 0 2.83L4 21.41c.39.39.9.59 1.41.59.51 0 1.02-.2 1.41-.59l7.78-7.78 2.81-2.81c.8-.78.8-2.07 0-2.86zM5.41 20L4 18.59l7.72-7.72 1.47 1.35L5.41 20z\"/>\n",
              "  </svg>\n",
              "      </button>\n",
              "      \n",
              "  <style>\n",
              "    .colab-df-container {\n",
              "      display:flex;\n",
              "      flex-wrap:wrap;\n",
              "      gap: 12px;\n",
              "    }\n",
              "\n",
              "    .colab-df-convert {\n",
              "      background-color: #E8F0FE;\n",
              "      border: none;\n",
              "      border-radius: 50%;\n",
              "      cursor: pointer;\n",
              "      display: none;\n",
              "      fill: #1967D2;\n",
              "      height: 32px;\n",
              "      padding: 0 0 0 0;\n",
              "      width: 32px;\n",
              "    }\n",
              "\n",
              "    .colab-df-convert:hover {\n",
              "      background-color: #E2EBFA;\n",
              "      box-shadow: 0px 1px 2px rgba(60, 64, 67, 0.3), 0px 1px 3px 1px rgba(60, 64, 67, 0.15);\n",
              "      fill: #174EA6;\n",
              "    }\n",
              "\n",
              "    [theme=dark] .colab-df-convert {\n",
              "      background-color: #3B4455;\n",
              "      fill: #D2E3FC;\n",
              "    }\n",
              "\n",
              "    [theme=dark] .colab-df-convert:hover {\n",
              "      background-color: #434B5C;\n",
              "      box-shadow: 0px 1px 3px 1px rgba(0, 0, 0, 0.15);\n",
              "      filter: drop-shadow(0px 1px 2px rgba(0, 0, 0, 0.3));\n",
              "      fill: #FFFFFF;\n",
              "    }\n",
              "  </style>\n",
              "\n",
              "      <script>\n",
              "        const buttonEl =\n",
              "          document.querySelector('#df-cf4dc7f6-1c5e-4bd3-b226-4ce2892ac4e9 button.colab-df-convert');\n",
              "        buttonEl.style.display =\n",
              "          google.colab.kernel.accessAllowed ? 'block' : 'none';\n",
              "\n",
              "        async function convertToInteractive(key) {\n",
              "          const element = document.querySelector('#df-cf4dc7f6-1c5e-4bd3-b226-4ce2892ac4e9');\n",
              "          const dataTable =\n",
              "            await google.colab.kernel.invokeFunction('convertToInteractive',\n",
              "                                                     [key], {});\n",
              "          if (!dataTable) return;\n",
              "\n",
              "          const docLinkHtml = 'Like what you see? Visit the ' +\n",
              "            '<a target=\"_blank\" href=https://colab.research.google.com/notebooks/data_table.ipynb>data table notebook</a>'\n",
              "            + ' to learn more about interactive tables.';\n",
              "          element.innerHTML = '';\n",
              "          dataTable['output_type'] = 'display_data';\n",
              "          await google.colab.output.renderOutput(dataTable, element);\n",
              "          const docLink = document.createElement('div');\n",
              "          docLink.innerHTML = docLinkHtml;\n",
              "          element.appendChild(docLink);\n",
              "        }\n",
              "      </script>\n",
              "    </div>\n",
              "  </div>\n",
              "  "
            ]
          },
          "metadata": {},
          "execution_count": 25
        }
      ]
    },
    {
      "cell_type": "code",
      "source": [
        "X = table.drop('activity', axis=1)\n",
        "y = table['activity']"
      ],
      "metadata": {
        "id": "48iXvjjLziCq"
      },
      "execution_count": 26,
      "outputs": []
    },
    {
      "cell_type": "code",
      "source": [
        "X_train, X_test, y_train, y_test = train_test_split(X, y, test_size=0.2, stratify=y)"
      ],
      "metadata": {
        "id": "3as13rTm1NuC"
      },
      "execution_count": 27,
      "outputs": []
    },
    {
      "cell_type": "markdown",
      "source": [
        "# **Time signs**"
      ],
      "metadata": {
        "id": "MaxFN5-M3Xf-"
      }
    },
    {
      "cell_type": "code",
      "source": [
        "X_train['mean'] = X_train.mean(axis=1)\n",
        "X_test['mean'] = X_test.mean(axis=1)"
      ],
      "metadata": {
        "id": "6XQHaDzB1qyx"
      },
      "execution_count": 28,
      "outputs": []
    },
    {
      "cell_type": "markdown",
      "source": [
        "# **Random Forest Model**"
      ],
      "metadata": {
        "id": "uRb74p933bks"
      }
    },
    {
      "cell_type": "code",
      "source": [
        "time_rf_1 = time.perf_counter()\n",
        "random_forest_model = RandomForestClassifier()\n",
        "random_forest_model.fit(X_train, y_train)\n",
        "time_rf_2 = time.perf_counter()"
      ],
      "metadata": {
        "id": "CnNUv5QY19Sp"
      },
      "execution_count": 29,
      "outputs": []
    },
    {
      "cell_type": "markdown",
      "source": [
        "*Runtime*"
      ],
      "metadata": {
        "id": "2BAjHGY0ACYS"
      }
    },
    {
      "cell_type": "code",
      "source": [
        "time_taken_to_run_rf = time_rf_2 - time_rf_1"
      ],
      "metadata": {
        "id": "p1YrQjFtAHFl"
      },
      "execution_count": 30,
      "outputs": []
    },
    {
      "cell_type": "markdown",
      "source": [
        "# **SVM Model**"
      ],
      "metadata": {
        "id": "9-9euO9d3fvx"
      }
    },
    {
      "cell_type": "code",
      "source": [
        "time_svm_1 = time.perf_counter()\n",
        "svm_model = SVC()\n",
        "svm_model.fit(X_train, y_train)\n",
        "time_svm_2 = time.perf_counter()"
      ],
      "metadata": {
        "id": "UPqYKba8229n"
      },
      "execution_count": 31,
      "outputs": []
    },
    {
      "cell_type": "markdown",
      "source": [
        "*Runtime*"
      ],
      "metadata": {
        "id": "9PKrqYxaAPNa"
      }
    },
    {
      "cell_type": "code",
      "source": [
        "time_taken_to_run_svm = time_svm_2 - time_svm_1"
      ],
      "metadata": {
        "id": "5D_BgVEfARiC"
      },
      "execution_count": 32,
      "outputs": []
    },
    {
      "cell_type": "markdown",
      "source": [
        "# **Predictions**"
      ],
      "metadata": {
        "id": "BR7VS3Qd6zld"
      }
    },
    {
      "cell_type": "markdown",
      "source": [
        "***SVM***"
      ],
      "metadata": {
        "id": "ZHaT5O1SFbnw"
      }
    },
    {
      "cell_type": "code",
      "source": [
        "time_svm_1_pred = time.perf_counter()\n",
        "svm_prediction = svm_model.predict(X_test)\n",
        "time_svm_2_pred = time.perf_counter()"
      ],
      "metadata": {
        "id": "lmdXYK4s616a"
      },
      "execution_count": 33,
      "outputs": []
    },
    {
      "cell_type": "markdown",
      "source": [
        "*Runtime*"
      ],
      "metadata": {
        "id": "cdlsavD_FHA7"
      }
    },
    {
      "cell_type": "code",
      "source": [
        "time_taken_to_run_svm_pred = time_svm_2_pred - time_svm_1_pred"
      ],
      "metadata": {
        "id": "kBVi0AJvFCBJ"
      },
      "execution_count": 34,
      "outputs": []
    },
    {
      "cell_type": "markdown",
      "source": [
        "***Random*** ***Forest***"
      ],
      "metadata": {
        "id": "yFrBIwwlFeBQ"
      }
    },
    {
      "cell_type": "code",
      "source": [
        "time_rf_1_pred = time.perf_counter()\n",
        "random_forest_prediction = random_forest_model.predict(X_test)\n",
        "time_rf_2_pred = time.perf_counter()"
      ],
      "metadata": {
        "id": "OCXtlvEWE2dR"
      },
      "execution_count": 35,
      "outputs": []
    },
    {
      "cell_type": "markdown",
      "source": [
        "*Runtime*"
      ],
      "metadata": {
        "id": "QikkCHqEFY45"
      }
    },
    {
      "cell_type": "code",
      "source": [
        "time_taken_to_run_rf_pred = time_rf_2_pred - time_rf_1_pred"
      ],
      "metadata": {
        "id": "o0UHnrlNFSTJ"
      },
      "execution_count": 36,
      "outputs": []
    },
    {
      "cell_type": "markdown",
      "source": [
        "# **Accuracy**"
      ],
      "metadata": {
        "id": "6WkYfabS7bmY"
      }
    },
    {
      "cell_type": "code",
      "source": [
        "svm_accuracy = accuracy_score(y_test, svm_prediction)\n",
        "random_forest_accuracy = accuracy_score(y_test, random_forest_prediction)"
      ],
      "metadata": {
        "id": "921kVAdA7fLg"
      },
      "execution_count": 37,
      "outputs": []
    },
    {
      "cell_type": "markdown",
      "source": [
        "# **Classification Report**"
      ],
      "metadata": {
        "id": "3NXvL2Od8eoj"
      }
    },
    {
      "cell_type": "code",
      "source": [
        "svm_report = classification_report(y_test, svm_prediction)\n",
        "print(f'''SVM Classification Report:\n",
        "      {svm_report}''')\n",
        "\n",
        "random_forest_report = classification_report(y_test, random_forest_prediction)\n",
        "print(f'''Random Forest Classification Report:\n",
        "      {random_forest_report}''')"
      ],
      "metadata": {
        "colab": {
          "base_uri": "https://localhost:8080/"
        },
        "id": "TxinFFNr8icc",
        "outputId": "07bb78f6-0792-4f3a-dcf2-16d442a2e4f6"
      },
      "execution_count": 38,
      "outputs": [
        {
          "output_type": "stream",
          "name": "stdout",
          "text": [
            "SVM Classification Report: \n",
            "                    precision    recall  f1-score   support\n",
            "\n",
            "        idle       0.96      0.98      0.97      6294\n",
            "     running       0.93      0.90      0.92     20628\n",
            "      stairs       1.00      0.01      0.01       990\n",
            "     walking       0.79      0.90      0.85     11160\n",
            "\n",
            "    accuracy                           0.89     39072\n",
            "   macro avg       0.92      0.70      0.69     39072\n",
            "weighted avg       0.90      0.89      0.88     39072\n",
            "\n",
            "Random Forest Classification Report:\n",
            "                    precision    recall  f1-score   support\n",
            "\n",
            "        idle       1.00      1.00      1.00      6294\n",
            "     running       1.00      1.00      1.00     20628\n",
            "      stairs       1.00      0.99      1.00       990\n",
            "     walking       1.00      1.00      1.00     11160\n",
            "\n",
            "    accuracy                           1.00     39072\n",
            "   macro avg       1.00      1.00      1.00     39072\n",
            "weighted avg       1.00      1.00      1.00     39072\n",
            "\n"
          ]
        }
      ]
    },
    {
      "cell_type": "markdown",
      "source": [
        "# **Total** **Time**"
      ],
      "metadata": {
        "id": "0Her8fc8F1cG"
      }
    },
    {
      "cell_type": "code",
      "source": [
        "total_time_svm = time_taken_to_run_svm_pred + time_taken_to_run_svm\n",
        "total_time_rf = time_taken_to_run_rf_pred + time_taken_to_run_rf"
      ],
      "metadata": {
        "id": "c4dJIyurF6MU"
      },
      "execution_count": 39,
      "outputs": []
    },
    {
      "cell_type": "markdown",
      "source": [
        "# **Final Comparison**"
      ],
      "metadata": {
        "id": "ZAeqi9_kD3hk"
      }
    },
    {
      "cell_type": "code",
      "source": [
        "final = pd.DataFrame()\n",
        "final['Models'] = ('SVM', 'Random Forest')\n",
        "final['Accuracy'] = (svm_accuracy, random_forest_accuracy)\n",
        "final['Total Runtime'] = (total_time_svm, total_time_rf)"
      ],
      "metadata": {
        "id": "7bNd-QNQD9oo"
      },
      "execution_count": 40,
      "outputs": []
    },
    {
      "cell_type": "code",
      "source": [
        "final"
      ],
      "metadata": {
        "colab": {
          "base_uri": "https://localhost:8080/",
          "height": 112
        },
        "id": "4iosuWNsEZSD",
        "outputId": "311cefbe-bebc-4bcf-f67f-df0ea4eb1ff7"
      },
      "execution_count": 41,
      "outputs": [
        {
          "output_type": "execute_result",
          "data": {
            "text/plain": [
              "          Models  Accuracy  Total Runtime\n",
              "0            SVM  0.891431     476.774103\n",
              "1  Random Forest  0.999744      23.634956"
            ],
            "text/html": [
              "\n",
              "  <div id=\"df-fba01c12-7dd9-495c-a2ce-a2b000ee297c\">\n",
              "    <div class=\"colab-df-container\">\n",
              "      <div>\n",
              "<style scoped>\n",
              "    .dataframe tbody tr th:only-of-type {\n",
              "        vertical-align: middle;\n",
              "    }\n",
              "\n",
              "    .dataframe tbody tr th {\n",
              "        vertical-align: top;\n",
              "    }\n",
              "\n",
              "    .dataframe thead th {\n",
              "        text-align: right;\n",
              "    }\n",
              "</style>\n",
              "<table border=\"1\" class=\"dataframe\">\n",
              "  <thead>\n",
              "    <tr style=\"text-align: right;\">\n",
              "      <th></th>\n",
              "      <th>Models</th>\n",
              "      <th>Accuracy</th>\n",
              "      <th>Total Runtime</th>\n",
              "    </tr>\n",
              "  </thead>\n",
              "  <tbody>\n",
              "    <tr>\n",
              "      <th>0</th>\n",
              "      <td>SVM</td>\n",
              "      <td>0.891431</td>\n",
              "      <td>476.774103</td>\n",
              "    </tr>\n",
              "    <tr>\n",
              "      <th>1</th>\n",
              "      <td>Random Forest</td>\n",
              "      <td>0.999744</td>\n",
              "      <td>23.634956</td>\n",
              "    </tr>\n",
              "  </tbody>\n",
              "</table>\n",
              "</div>\n",
              "      <button class=\"colab-df-convert\" onclick=\"convertToInteractive('df-fba01c12-7dd9-495c-a2ce-a2b000ee297c')\"\n",
              "              title=\"Convert this dataframe to an interactive table.\"\n",
              "              style=\"display:none;\">\n",
              "        \n",
              "  <svg xmlns=\"http://www.w3.org/2000/svg\" height=\"24px\"viewBox=\"0 0 24 24\"\n",
              "       width=\"24px\">\n",
              "    <path d=\"M0 0h24v24H0V0z\" fill=\"none\"/>\n",
              "    <path d=\"M18.56 5.44l.94 2.06.94-2.06 2.06-.94-2.06-.94-.94-2.06-.94 2.06-2.06.94zm-11 1L8.5 8.5l.94-2.06 2.06-.94-2.06-.94L8.5 2.5l-.94 2.06-2.06.94zm10 10l.94 2.06.94-2.06 2.06-.94-2.06-.94-.94-2.06-.94 2.06-2.06.94z\"/><path d=\"M17.41 7.96l-1.37-1.37c-.4-.4-.92-.59-1.43-.59-.52 0-1.04.2-1.43.59L10.3 9.45l-7.72 7.72c-.78.78-.78 2.05 0 2.83L4 21.41c.39.39.9.59 1.41.59.51 0 1.02-.2 1.41-.59l7.78-7.78 2.81-2.81c.8-.78.8-2.07 0-2.86zM5.41 20L4 18.59l7.72-7.72 1.47 1.35L5.41 20z\"/>\n",
              "  </svg>\n",
              "      </button>\n",
              "      \n",
              "  <style>\n",
              "    .colab-df-container {\n",
              "      display:flex;\n",
              "      flex-wrap:wrap;\n",
              "      gap: 12px;\n",
              "    }\n",
              "\n",
              "    .colab-df-convert {\n",
              "      background-color: #E8F0FE;\n",
              "      border: none;\n",
              "      border-radius: 50%;\n",
              "      cursor: pointer;\n",
              "      display: none;\n",
              "      fill: #1967D2;\n",
              "      height: 32px;\n",
              "      padding: 0 0 0 0;\n",
              "      width: 32px;\n",
              "    }\n",
              "\n",
              "    .colab-df-convert:hover {\n",
              "      background-color: #E2EBFA;\n",
              "      box-shadow: 0px 1px 2px rgba(60, 64, 67, 0.3), 0px 1px 3px 1px rgba(60, 64, 67, 0.15);\n",
              "      fill: #174EA6;\n",
              "    }\n",
              "\n",
              "    [theme=dark] .colab-df-convert {\n",
              "      background-color: #3B4455;\n",
              "      fill: #D2E3FC;\n",
              "    }\n",
              "\n",
              "    [theme=dark] .colab-df-convert:hover {\n",
              "      background-color: #434B5C;\n",
              "      box-shadow: 0px 1px 3px 1px rgba(0, 0, 0, 0.15);\n",
              "      filter: drop-shadow(0px 1px 2px rgba(0, 0, 0, 0.3));\n",
              "      fill: #FFFFFF;\n",
              "    }\n",
              "  </style>\n",
              "\n",
              "      <script>\n",
              "        const buttonEl =\n",
              "          document.querySelector('#df-fba01c12-7dd9-495c-a2ce-a2b000ee297c button.colab-df-convert');\n",
              "        buttonEl.style.display =\n",
              "          google.colab.kernel.accessAllowed ? 'block' : 'none';\n",
              "\n",
              "        async function convertToInteractive(key) {\n",
              "          const element = document.querySelector('#df-fba01c12-7dd9-495c-a2ce-a2b000ee297c');\n",
              "          const dataTable =\n",
              "            await google.colab.kernel.invokeFunction('convertToInteractive',\n",
              "                                                     [key], {});\n",
              "          if (!dataTable) return;\n",
              "\n",
              "          const docLinkHtml = 'Like what you see? Visit the ' +\n",
              "            '<a target=\"_blank\" href=https://colab.research.google.com/notebooks/data_table.ipynb>data table notebook</a>'\n",
              "            + ' to learn more about interactive tables.';\n",
              "          element.innerHTML = '';\n",
              "          dataTable['output_type'] = 'display_data';\n",
              "          await google.colab.output.renderOutput(dataTable, element);\n",
              "          const docLink = document.createElement('div');\n",
              "          docLink.innerHTML = docLinkHtml;\n",
              "          element.appendChild(docLink);\n",
              "        }\n",
              "      </script>\n",
              "    </div>\n",
              "  </div>\n",
              "  "
            ]
          },
          "metadata": {},
          "execution_count": 41
        }
      ]
    },
    {
      "cell_type": "markdown",
      "source": [
        "As per final report total runtime of SVM method was approx 20 times longer than Random forest method. In addition accuracy of Random Forest method was much more better in comparison with SVM method.\n",
        "So as a final decision we can say that Random Forest method is more effective in our current case. SVM is much more time- and resource-intensive."
      ],
      "metadata": {
        "id": "adxNPcVIKVsZ"
      }
    }
  ]
}